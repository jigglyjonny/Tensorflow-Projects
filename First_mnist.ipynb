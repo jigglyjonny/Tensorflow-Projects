{
  "nbformat": 4,
  "nbformat_minor": 0,
  "metadata": {
    "colab": {
      "name": "First-mnist.ipynb",
      "provenance": [],
      "mount_file_id": "1sJT_Wvri-LwOiELhnPHo4vyzCoWcw0uv",
      "authorship_tag": "ABX9TyNyNsX5a/nFOAy9eFiNaegi",
      "include_colab_link": true
    },
    "kernelspec": {
      "name": "python3",
      "display_name": "Python 3"
    },
    "language_info": {
      "name": "python"
    }
  },
  "cells": [
    {
      "cell_type": "markdown",
      "metadata": {
        "id": "view-in-github",
        "colab_type": "text"
      },
      "source": [
        "<a href=\"https://colab.research.google.com/github/jigglyjonny/Tensorflow-Projects/blob/main/First_mnist.ipynb\" target=\"_parent\"><img src=\"https://colab.research.google.com/assets/colab-badge.svg\" alt=\"Open In Colab\"/></a>"
      ]
    },
    {
      "cell_type": "code",
      "execution_count": 2,
      "metadata": {
        "id": "FAJrFYltjn95"
      },
      "outputs": [],
      "source": [
        "# libraries\n",
        "# !pip install os\n",
        "import numpy as np\n",
        "import pandas as pd\n",
        "import matplotlib.pyplot as plt\n",
        "import os"
      ]
    },
    {
      "cell_type": "code",
      "source": [
        "os.listdir(\"drive/MyDrive\")\n"
      ],
      "metadata": {
        "colab": {
          "base_uri": "https://localhost:8080/"
        },
        "id": "kZSQAmE8lmm9",
        "outputId": "d46ccb0c-d3ff-4a68-9fb9-8d73ebecbac1"
      },
      "execution_count": 3,
      "outputs": [
        {
          "output_type": "execute_result",
          "data": {
            "text/plain": [
              "['Getting started.pdf',\n",
              " 'Presentation1.gslides',\n",
              " 'Untitled presentation.gslides',\n",
              " 'my trip.gsite',\n",
              " 'randome photos.gdoc',\n",
              " 'Level9.pdf',\n",
              " 'Pop Song.gdoc',\n",
              " 'Untitled document (8).gdoc',\n",
              " 'Untitled document (7).gdoc',\n",
              " 'Recording (14).m4a',\n",
              " 'Untitled document (6).gdoc',\n",
              " 'java grade-book homework.gdoc',\n",
              " 'Chess form .gform',\n",
              " 'french room paragraph.gdoc',\n",
              " 'redemption.mp4',\n",
              " 'humourous classification essay.gdoc',\n",
              " 'Untitled document (5).gdoc',\n",
              " 'GMOs bio project.gdoc',\n",
              " 'IH essay lol.gdoc',\n",
              " 'Untitled document (4).gdoc',\n",
              " 'Tofino trip.gdoc',\n",
              " 'Essential Skills Test Yourself .gdoc',\n",
              " 'Copy of Wed 4:35_G10 11.gdoc',\n",
              " 'Untitled document (3).gdoc',\n",
              " 'Jonathan the boss of the world.gdoc',\n",
              " \"Joanna's Project.gsite\",\n",
              " 'SAT homework.gdoc',\n",
              " 'Answer Sheet Week 20.pdf',\n",
              " 'Answer Sheet Week 20.gdoc',\n",
              " 'Using Essential Skills on the Job Reproducible.gdoc',\n",
              " 'Copy of Essential Skills Test Yourself Quiz Reproducible.gdoc',\n",
              " 'MSG and the Controversy.gslides',\n",
              " 'MSG Speech.gdoc',\n",
              " \"Jonathan's Resume.gdoc\",\n",
              " '-     ミニマリスト.osk (Unzipped Files) (1)',\n",
              " '-     ミニマリスト.osk (Unzipped Files)',\n",
              " 'Classroom',\n",
              " 'Colab Notebooks',\n",
              " 'Socials timeline',\n",
              " 'Untitled document (2).gdoc',\n",
              " 'Car loan thing.gdoc',\n",
              " 'Untitled document (1).gdoc',\n",
              " 'Gatsby playlist .gdoc',\n",
              " 'Untitled document.gdoc']"
            ]
          },
          "metadata": {},
          "execution_count": 3
        }
      ]
    },
    {
      "cell_type": "code",
      "source": [
        "import tensorflow as tf\n",
        "mnist = tf.keras.datasets.mnist\n"
      ],
      "metadata": {
        "id": "lEim2_8SmKuh"
      },
      "execution_count": 4,
      "outputs": []
    },
    {
      "cell_type": "code",
      "source": [
        "(training_images, training_labels), (test_images, test_labels) = mnist.load_data()\n"
      ],
      "metadata": {
        "colab": {
          "base_uri": "https://localhost:8080/"
        },
        "id": "Q18ppMKPn3Yr",
        "outputId": "f59ef2a4-8091-4f11-ab78-ebd11cc7e301"
      },
      "execution_count": 5,
      "outputs": [
        {
          "output_type": "stream",
          "name": "stdout",
          "text": [
            "Downloading data from https://storage.googleapis.com/tensorflow/tf-keras-datasets/mnist.npz\n",
            "11493376/11490434 [==============================] - 0s 0us/step\n",
            "11501568/11490434 [==============================] - 0s 0us/step\n"
          ]
        }
      ]
    },
    {
      "cell_type": "code",
      "source": [
        "print(training_images.shape, training_labels.shape)"
      ],
      "metadata": {
        "colab": {
          "base_uri": "https://localhost:8080/"
        },
        "id": "JhJunfS-oYxG",
        "outputId": "a69ecdd0-9707-445d-95b6-efe8f3010920"
      },
      "execution_count": 6,
      "outputs": [
        {
          "output_type": "stream",
          "name": "stdout",
          "text": [
            "(60000, 28, 28) (60000,)\n"
          ]
        }
      ]
    },
    {
      "cell_type": "code",
      "source": [
        ""
      ],
      "metadata": {
        "id": "Kk3i9OFwrAHm"
      },
      "execution_count": null,
      "outputs": []
    },
    {
      "cell_type": "code",
      "source": [
        "np.unique(training_labels)\n"
      ],
      "metadata": {
        "colab": {
          "base_uri": "https://localhost:8080/"
        },
        "id": "YLLT33TVqkRD",
        "outputId": "26043337-1d7d-4beb-e233-18ba87760ab3"
      },
      "execution_count": 27,
      "outputs": [
        {
          "output_type": "execute_result",
          "data": {
            "text/plain": [
              "array([0, 1, 2, 3, 4, 5, 6, 7, 8, 9], dtype=uint8)"
            ]
          },
          "metadata": {},
          "execution_count": 27
        }
      ]
    },
    {
      "cell_type": "code",
      "source": [
        "trainingLabelsohe = tf.keras.utils.to_categorical(training_labels)\n",
        "testLabelsohe = tf.keras.utils.to_categorical(test_labels)\n"
      ],
      "metadata": {
        "id": "94k4Mi94rEWh"
      },
      "execution_count": 7,
      "outputs": []
    },
    {
      "cell_type": "code",
      "source": [
        "trainingLabelsohe.shape"
      ],
      "metadata": {
        "colab": {
          "base_uri": "https://localhost:8080/"
        },
        "id": "AreGBCQHroJj",
        "outputId": "096cc84b-f9c1-4f5a-88c8-3df4ed68f54b"
      },
      "execution_count": 29,
      "outputs": [
        {
          "output_type": "execute_result",
          "data": {
            "text/plain": [
              "(60000, 10)"
            ]
          },
          "metadata": {},
          "execution_count": 29
        }
      ]
    },
    {
      "cell_type": "code",
      "source": [
        "model = tf.keras.models.Sequential([\n",
        "tf.keras.layers.Flatten(), \n",
        "tf.keras.layers.Dense(10),\n",
        "tf.keras.layers.Dense(100),\n",
        "tf.keras.layers.Dense(10),\n",
        "tf.keras.layers.Dense(10),\n",
        "tf.keras.layers.Dense(10, activation = \"softmax\")\n",
        "])\n"
      ],
      "metadata": {
        "id": "jfnredPhs0P0"
      },
      "execution_count": 8,
      "outputs": []
    },
    {
      "cell_type": "code",
      "source": [
        "model.compile(\n",
        "    optimizer = \"adam\",\n",
        "    loss = \"categorical_crossentropy\",\n",
        "    metrics = [\"accuracy\"]\n",
        ")"
      ],
      "metadata": {
        "id": "IjYeMVWOwGip"
      },
      "execution_count": 9,
      "outputs": []
    },
    {
      "cell_type": "code",
      "source": [
        "model.fit(\n",
        "    training_images, trainingLabelsohe, \n",
        "    validation_data = (test_images, testLabelsohe),\n",
        "    # batch_size = 15,\n",
        "    epochs = 100\n",
        ")"
      ],
      "metadata": {
        "colab": {
          "base_uri": "https://localhost:8080/"
        },
        "id": "ebSv852Xy0zz",
        "outputId": "2552674e-8451-4349-f3df-80e690092dc6"
      },
      "execution_count": 46,
      "outputs": [
        {
          "output_type": "stream",
          "name": "stdout",
          "text": [
            "Epoch 1/100\n",
            "1875/1875 [==============================] - 4s 2ms/step - loss: 0.2875 - accuracy: 0.9175 - val_loss: 0.3146 - val_accuracy: 0.9159\n",
            "Epoch 2/100\n",
            "1875/1875 [==============================] - 4s 2ms/step - loss: 0.2847 - accuracy: 0.9198 - val_loss: 0.3093 - val_accuracy: 0.9134\n",
            "Epoch 3/100\n",
            "1875/1875 [==============================] - 4s 2ms/step - loss: 0.2856 - accuracy: 0.9193 - val_loss: 0.3002 - val_accuracy: 0.9177\n",
            "Epoch 4/100\n",
            "1875/1875 [==============================] - 4s 2ms/step - loss: 0.2818 - accuracy: 0.9201 - val_loss: 0.3234 - val_accuracy: 0.9124\n",
            "Epoch 5/100\n",
            "1875/1875 [==============================] - 4s 2ms/step - loss: 0.2821 - accuracy: 0.9201 - val_loss: 0.3155 - val_accuracy: 0.9151\n",
            "Epoch 6/100\n",
            "1875/1875 [==============================] - 4s 2ms/step - loss: 0.2797 - accuracy: 0.9210 - val_loss: 0.3109 - val_accuracy: 0.9149\n",
            "Epoch 7/100\n",
            "1875/1875 [==============================] - 4s 2ms/step - loss: 0.2794 - accuracy: 0.9218 - val_loss: 0.3196 - val_accuracy: 0.9126\n",
            "Epoch 8/100\n",
            "1875/1875 [==============================] - 4s 2ms/step - loss: 0.2800 - accuracy: 0.9207 - val_loss: 0.3289 - val_accuracy: 0.9091\n",
            "Epoch 9/100\n",
            "1875/1875 [==============================] - 4s 2ms/step - loss: 0.2762 - accuracy: 0.9220 - val_loss: 0.3029 - val_accuracy: 0.9168\n",
            "Epoch 10/100\n",
            "1875/1875 [==============================] - 4s 2ms/step - loss: 0.2773 - accuracy: 0.9217 - val_loss: 0.3248 - val_accuracy: 0.9119\n",
            "Epoch 11/100\n",
            "1875/1875 [==============================] - 4s 2ms/step - loss: 0.2759 - accuracy: 0.9214 - val_loss: 0.3052 - val_accuracy: 0.9178\n",
            "Epoch 12/100\n",
            "1875/1875 [==============================] - 4s 2ms/step - loss: 0.2756 - accuracy: 0.9217 - val_loss: 0.3007 - val_accuracy: 0.9187\n",
            "Epoch 13/100\n",
            "1875/1875 [==============================] - 4s 2ms/step - loss: 0.2753 - accuracy: 0.9210 - val_loss: 0.3321 - val_accuracy: 0.9082\n",
            "Epoch 14/100\n",
            "1875/1875 [==============================] - 4s 2ms/step - loss: 0.2736 - accuracy: 0.9231 - val_loss: 0.3185 - val_accuracy: 0.9154\n",
            "Epoch 15/100\n",
            "1875/1875 [==============================] - 4s 2ms/step - loss: 0.2735 - accuracy: 0.9217 - val_loss: 0.3148 - val_accuracy: 0.9128\n",
            "Epoch 16/100\n",
            "1875/1875 [==============================] - 4s 2ms/step - loss: 0.2727 - accuracy: 0.9226 - val_loss: 0.3162 - val_accuracy: 0.9162\n",
            "Epoch 17/100\n",
            "1875/1875 [==============================] - 4s 2ms/step - loss: 0.2719 - accuracy: 0.9228 - val_loss: 0.3083 - val_accuracy: 0.9171\n",
            "Epoch 18/100\n",
            "1875/1875 [==============================] - 4s 2ms/step - loss: 0.2714 - accuracy: 0.9232 - val_loss: 0.3074 - val_accuracy: 0.9202\n",
            "Epoch 19/100\n",
            "1875/1875 [==============================] - 4s 2ms/step - loss: 0.2728 - accuracy: 0.9236 - val_loss: 0.3250 - val_accuracy: 0.9096\n",
            "Epoch 20/100\n",
            "1875/1875 [==============================] - 4s 2ms/step - loss: 0.2714 - accuracy: 0.9220 - val_loss: 0.2982 - val_accuracy: 0.9189\n",
            "Epoch 21/100\n",
            "1875/1875 [==============================] - 4s 2ms/step - loss: 0.2706 - accuracy: 0.9228 - val_loss: 0.3197 - val_accuracy: 0.9158\n",
            "Epoch 22/100\n",
            "1875/1875 [==============================] - 4s 2ms/step - loss: 0.2709 - accuracy: 0.9233 - val_loss: 0.3027 - val_accuracy: 0.9214\n",
            "Epoch 23/100\n",
            "1875/1875 [==============================] - 4s 2ms/step - loss: 0.2711 - accuracy: 0.9227 - val_loss: 0.3044 - val_accuracy: 0.9171\n",
            "Epoch 24/100\n",
            "1875/1875 [==============================] - 4s 2ms/step - loss: 0.2691 - accuracy: 0.9231 - val_loss: 0.3305 - val_accuracy: 0.9076\n",
            "Epoch 25/100\n",
            "1875/1875 [==============================] - 4s 2ms/step - loss: 0.2685 - accuracy: 0.9237 - val_loss: 0.3230 - val_accuracy: 0.9163\n",
            "Epoch 26/100\n",
            "1875/1875 [==============================] - 4s 2ms/step - loss: 0.2685 - accuracy: 0.9240 - val_loss: 0.3145 - val_accuracy: 0.9153\n",
            "Epoch 27/100\n",
            "1875/1875 [==============================] - 4s 2ms/step - loss: 0.2679 - accuracy: 0.9239 - val_loss: 0.3177 - val_accuracy: 0.9139\n",
            "Epoch 28/100\n",
            "1875/1875 [==============================] - 4s 2ms/step - loss: 0.2680 - accuracy: 0.9241 - val_loss: 0.3309 - val_accuracy: 0.9067\n",
            "Epoch 29/100\n",
            "1875/1875 [==============================] - 4s 2ms/step - loss: 0.2671 - accuracy: 0.9241 - val_loss: 0.3113 - val_accuracy: 0.9172\n",
            "Epoch 30/100\n",
            "1875/1875 [==============================] - 4s 2ms/step - loss: 0.2662 - accuracy: 0.9247 - val_loss: 0.3075 - val_accuracy: 0.9178\n",
            "Epoch 31/100\n",
            "1875/1875 [==============================] - 4s 2ms/step - loss: 0.2669 - accuracy: 0.9237 - val_loss: 0.3116 - val_accuracy: 0.9176\n",
            "Epoch 32/100\n",
            "1875/1875 [==============================] - 4s 2ms/step - loss: 0.2687 - accuracy: 0.9230 - val_loss: 0.3257 - val_accuracy: 0.9107\n",
            "Epoch 33/100\n",
            "1875/1875 [==============================] - 4s 2ms/step - loss: 0.2666 - accuracy: 0.9247 - val_loss: 0.2956 - val_accuracy: 0.9216\n",
            "Epoch 34/100\n",
            "1875/1875 [==============================] - 4s 2ms/step - loss: 0.2667 - accuracy: 0.9236 - val_loss: 0.3074 - val_accuracy: 0.9174\n",
            "Epoch 35/100\n",
            "1875/1875 [==============================] - 4s 2ms/step - loss: 0.2656 - accuracy: 0.9235 - val_loss: 0.3121 - val_accuracy: 0.9160\n",
            "Epoch 36/100\n",
            "1875/1875 [==============================] - 5s 2ms/step - loss: 0.2661 - accuracy: 0.9239 - val_loss: 0.3193 - val_accuracy: 0.9123\n",
            "Epoch 37/100\n",
            "1875/1875 [==============================] - 5s 2ms/step - loss: 0.2659 - accuracy: 0.9242 - val_loss: 0.3122 - val_accuracy: 0.9162\n",
            "Epoch 38/100\n",
            "1875/1875 [==============================] - 4s 2ms/step - loss: 0.2659 - accuracy: 0.9244 - val_loss: 0.3088 - val_accuracy: 0.9160\n",
            "Epoch 39/100\n",
            "1875/1875 [==============================] - 4s 2ms/step - loss: 0.2645 - accuracy: 0.9254 - val_loss: 0.3174 - val_accuracy: 0.9175\n",
            "Epoch 40/100\n",
            "1875/1875 [==============================] - 4s 2ms/step - loss: 0.2667 - accuracy: 0.9242 - val_loss: 0.2927 - val_accuracy: 0.9205\n",
            "Epoch 41/100\n",
            "1875/1875 [==============================] - 4s 2ms/step - loss: 0.2629 - accuracy: 0.9250 - val_loss: 0.3133 - val_accuracy: 0.9161\n",
            "Epoch 42/100\n",
            "1875/1875 [==============================] - 4s 2ms/step - loss: 0.2653 - accuracy: 0.9240 - val_loss: 0.3169 - val_accuracy: 0.9164\n",
            "Epoch 43/100\n",
            "1875/1875 [==============================] - 4s 2ms/step - loss: 0.2644 - accuracy: 0.9259 - val_loss: 0.3055 - val_accuracy: 0.9158\n",
            "Epoch 44/100\n",
            "1875/1875 [==============================] - 4s 2ms/step - loss: 0.2628 - accuracy: 0.9251 - val_loss: 0.3069 - val_accuracy: 0.9187\n",
            "Epoch 45/100\n",
            "1875/1875 [==============================] - 4s 2ms/step - loss: 0.2639 - accuracy: 0.9237 - val_loss: 0.3012 - val_accuracy: 0.9210\n",
            "Epoch 46/100\n",
            "1875/1875 [==============================] - 4s 2ms/step - loss: 0.2643 - accuracy: 0.9250 - val_loss: 0.3343 - val_accuracy: 0.9139\n",
            "Epoch 47/100\n",
            "1875/1875 [==============================] - 4s 2ms/step - loss: 0.2650 - accuracy: 0.9241 - val_loss: 0.3020 - val_accuracy: 0.9217\n",
            "Epoch 48/100\n",
            "1875/1875 [==============================] - 4s 2ms/step - loss: 0.2624 - accuracy: 0.9258 - val_loss: 0.3286 - val_accuracy: 0.9118\n",
            "Epoch 49/100\n",
            "1875/1875 [==============================] - 4s 2ms/step - loss: 0.2638 - accuracy: 0.9247 - val_loss: 0.3127 - val_accuracy: 0.9140\n",
            "Epoch 50/100\n",
            "1875/1875 [==============================] - 4s 2ms/step - loss: 0.2626 - accuracy: 0.9247 - val_loss: 0.3217 - val_accuracy: 0.9136\n",
            "Epoch 51/100\n",
            "1875/1875 [==============================] - 4s 2ms/step - loss: 0.2626 - accuracy: 0.9244 - val_loss: 0.3053 - val_accuracy: 0.9191\n",
            "Epoch 52/100\n",
            "1875/1875 [==============================] - 4s 2ms/step - loss: 0.2632 - accuracy: 0.9252 - val_loss: 0.3150 - val_accuracy: 0.9187\n",
            "Epoch 53/100\n",
            "1875/1875 [==============================] - 4s 2ms/step - loss: 0.2621 - accuracy: 0.9249 - val_loss: 0.3144 - val_accuracy: 0.9140\n",
            "Epoch 54/100\n",
            "1875/1875 [==============================] - 4s 2ms/step - loss: 0.2611 - accuracy: 0.9254 - val_loss: 0.3208 - val_accuracy: 0.9137\n",
            "Epoch 55/100\n",
            "1875/1875 [==============================] - 4s 2ms/step - loss: 0.2639 - accuracy: 0.9252 - val_loss: 0.3130 - val_accuracy: 0.9185\n",
            "Epoch 56/100\n",
            "1875/1875 [==============================] - 4s 2ms/step - loss: 0.2629 - accuracy: 0.9252 - val_loss: 0.3135 - val_accuracy: 0.9172\n",
            "Epoch 57/100\n",
            "1875/1875 [==============================] - 4s 2ms/step - loss: 0.2624 - accuracy: 0.9250 - val_loss: 0.3067 - val_accuracy: 0.9195\n",
            "Epoch 58/100\n",
            "1875/1875 [==============================] - 4s 2ms/step - loss: 0.2611 - accuracy: 0.9250 - val_loss: 0.3151 - val_accuracy: 0.9138\n",
            "Epoch 59/100\n",
            "1875/1875 [==============================] - 4s 2ms/step - loss: 0.2632 - accuracy: 0.9235 - val_loss: 0.3293 - val_accuracy: 0.9155\n",
            "Epoch 60/100\n",
            "1875/1875 [==============================] - 4s 2ms/step - loss: 0.2615 - accuracy: 0.9253 - val_loss: 0.3112 - val_accuracy: 0.9206\n",
            "Epoch 61/100\n",
            "1875/1875 [==============================] - 4s 2ms/step - loss: 0.2629 - accuracy: 0.9240 - val_loss: 0.3161 - val_accuracy: 0.9170\n",
            "Epoch 62/100\n",
            "1875/1875 [==============================] - 4s 2ms/step - loss: 0.2614 - accuracy: 0.9255 - val_loss: 0.3208 - val_accuracy: 0.9148\n",
            "Epoch 63/100\n",
            "1875/1875 [==============================] - 4s 2ms/step - loss: 0.2613 - accuracy: 0.9251 - val_loss: 0.3201 - val_accuracy: 0.9160\n",
            "Epoch 64/100\n",
            "1875/1875 [==============================] - 4s 2ms/step - loss: 0.2612 - accuracy: 0.9251 - val_loss: 0.3217 - val_accuracy: 0.9167\n",
            "Epoch 65/100\n",
            "1875/1875 [==============================] - 4s 2ms/step - loss: 0.2634 - accuracy: 0.9258 - val_loss: 0.3229 - val_accuracy: 0.9146\n",
            "Epoch 66/100\n",
            "1875/1875 [==============================] - 4s 2ms/step - loss: 0.2593 - accuracy: 0.9251 - val_loss: 0.3210 - val_accuracy: 0.9140\n",
            "Epoch 67/100\n",
            "1875/1875 [==============================] - 4s 2ms/step - loss: 0.2597 - accuracy: 0.9261 - val_loss: 0.3285 - val_accuracy: 0.9151\n",
            "Epoch 68/100\n",
            "1875/1875 [==============================] - 4s 2ms/step - loss: 0.2603 - accuracy: 0.9268 - val_loss: 0.3166 - val_accuracy: 0.9138\n",
            "Epoch 69/100\n",
            "1875/1875 [==============================] - 4s 2ms/step - loss: 0.2610 - accuracy: 0.9254 - val_loss: 0.3326 - val_accuracy: 0.9142\n",
            "Epoch 70/100\n",
            "1875/1875 [==============================] - 4s 2ms/step - loss: 0.2617 - accuracy: 0.9250 - val_loss: 0.3124 - val_accuracy: 0.9191\n",
            "Epoch 71/100\n",
            "1875/1875 [==============================] - 4s 2ms/step - loss: 0.2610 - accuracy: 0.9258 - val_loss: 0.3348 - val_accuracy: 0.9141\n",
            "Epoch 72/100\n",
            "1875/1875 [==============================] - 4s 2ms/step - loss: 0.2605 - accuracy: 0.9267 - val_loss: 0.3081 - val_accuracy: 0.9232\n",
            "Epoch 73/100\n",
            "1875/1875 [==============================] - 4s 2ms/step - loss: 0.2629 - accuracy: 0.9242 - val_loss: 0.3240 - val_accuracy: 0.9149\n",
            "Epoch 74/100\n",
            "1875/1875 [==============================] - 4s 2ms/step - loss: 0.2605 - accuracy: 0.9254 - val_loss: 0.3120 - val_accuracy: 0.9172\n",
            "Epoch 75/100\n",
            "1875/1875 [==============================] - 4s 2ms/step - loss: 0.2607 - accuracy: 0.9249 - val_loss: 0.3105 - val_accuracy: 0.9192\n",
            "Epoch 76/100\n",
            "1875/1875 [==============================] - 4s 2ms/step - loss: 0.2610 - accuracy: 0.9247 - val_loss: 0.3186 - val_accuracy: 0.9132\n",
            "Epoch 77/100\n",
            "1875/1875 [==============================] - 4s 2ms/step - loss: 0.2624 - accuracy: 0.9255 - val_loss: 0.3114 - val_accuracy: 0.9155\n",
            "Epoch 78/100\n",
            "1875/1875 [==============================] - 4s 2ms/step - loss: 0.2611 - accuracy: 0.9253 - val_loss: 0.3248 - val_accuracy: 0.9144\n",
            "Epoch 79/100\n",
            "1875/1875 [==============================] - 4s 2ms/step - loss: 0.2598 - accuracy: 0.9249 - val_loss: 0.3358 - val_accuracy: 0.9068\n",
            "Epoch 80/100\n",
            "1875/1875 [==============================] - 4s 2ms/step - loss: 0.2602 - accuracy: 0.9258 - val_loss: 0.3110 - val_accuracy: 0.9186\n",
            "Epoch 81/100\n",
            "1875/1875 [==============================] - 5s 2ms/step - loss: 0.2591 - accuracy: 0.9260 - val_loss: 0.3226 - val_accuracy: 0.9174\n",
            "Epoch 82/100\n",
            "1875/1875 [==============================] - 4s 2ms/step - loss: 0.2596 - accuracy: 0.9254 - val_loss: 0.3114 - val_accuracy: 0.9214\n",
            "Epoch 83/100\n",
            "1875/1875 [==============================] - 4s 2ms/step - loss: 0.2595 - accuracy: 0.9250 - val_loss: 0.3251 - val_accuracy: 0.9167\n",
            "Epoch 84/100\n",
            "1875/1875 [==============================] - 4s 2ms/step - loss: 0.2611 - accuracy: 0.9261 - val_loss: 0.3145 - val_accuracy: 0.9162\n",
            "Epoch 85/100\n",
            "1875/1875 [==============================] - 4s 2ms/step - loss: 0.2590 - accuracy: 0.9249 - val_loss: 0.3146 - val_accuracy: 0.9158\n",
            "Epoch 86/100\n",
            "1875/1875 [==============================] - 4s 2ms/step - loss: 0.2586 - accuracy: 0.9262 - val_loss: 0.3355 - val_accuracy: 0.9098\n",
            "Epoch 87/100\n",
            "1875/1875 [==============================] - 4s 2ms/step - loss: 0.2604 - accuracy: 0.9253 - val_loss: 0.3197 - val_accuracy: 0.9170\n",
            "Epoch 88/100\n",
            "1875/1875 [==============================] - 4s 2ms/step - loss: 0.2590 - accuracy: 0.9257 - val_loss: 0.3250 - val_accuracy: 0.9128\n",
            "Epoch 89/100\n",
            "1875/1875 [==============================] - 4s 2ms/step - loss: 0.2588 - accuracy: 0.9259 - val_loss: 0.3278 - val_accuracy: 0.9157\n",
            "Epoch 90/100\n",
            "1875/1875 [==============================] - 4s 2ms/step - loss: 0.2607 - accuracy: 0.9253 - val_loss: 0.3100 - val_accuracy: 0.9188\n",
            "Epoch 91/100\n",
            "1875/1875 [==============================] - 4s 2ms/step - loss: 0.2577 - accuracy: 0.9269 - val_loss: 0.3235 - val_accuracy: 0.9155\n",
            "Epoch 92/100\n",
            "1875/1875 [==============================] - 4s 2ms/step - loss: 0.2602 - accuracy: 0.9252 - val_loss: 0.3431 - val_accuracy: 0.9113\n",
            "Epoch 93/100\n",
            "1875/1875 [==============================] - 4s 2ms/step - loss: 0.2597 - accuracy: 0.9255 - val_loss: 0.3164 - val_accuracy: 0.9161\n",
            "Epoch 94/100\n",
            "1875/1875 [==============================] - 4s 2ms/step - loss: 0.2607 - accuracy: 0.9260 - val_loss: 0.3073 - val_accuracy: 0.9180\n",
            "Epoch 95/100\n",
            "1875/1875 [==============================] - 4s 2ms/step - loss: 0.2590 - accuracy: 0.9260 - val_loss: 0.3126 - val_accuracy: 0.9179\n",
            "Epoch 96/100\n",
            "1875/1875 [==============================] - 4s 2ms/step - loss: 0.2584 - accuracy: 0.9263 - val_loss: 0.3139 - val_accuracy: 0.9179\n",
            "Epoch 97/100\n",
            "1875/1875 [==============================] - 4s 2ms/step - loss: 0.2601 - accuracy: 0.9262 - val_loss: 0.3101 - val_accuracy: 0.9207\n",
            "Epoch 98/100\n",
            "1875/1875 [==============================] - 5s 2ms/step - loss: 0.2579 - accuracy: 0.9260 - val_loss: 0.3142 - val_accuracy: 0.9161\n",
            "Epoch 99/100\n",
            "1875/1875 [==============================] - 4s 2ms/step - loss: 0.2598 - accuracy: 0.9254 - val_loss: 0.3236 - val_accuracy: 0.9151\n",
            "Epoch 100/100\n",
            "1875/1875 [==============================] - 5s 2ms/step - loss: 0.2587 - accuracy: 0.9257 - val_loss: 0.3207 - val_accuracy: 0.9174\n"
          ]
        },
        {
          "output_type": "execute_result",
          "data": {
            "text/plain": [
              "<keras.callbacks.History at 0x7f9d8ccf2b90>"
            ]
          },
          "metadata": {},
          "execution_count": 46
        }
      ]
    },
    {
      "cell_type": "code",
      "source": [
        "from google.colab import drive\n",
        "drive.mount('/content/drive')"
      ],
      "metadata": {
        "id": "tCGS6uPN5ig9"
      },
      "execution_count": null,
      "outputs": []
    },
    {
      "cell_type": "markdown",
      "source": [
        "##data\n",
        "<p align = \"center\">\n",
        "\n",
        "</p>"
      ],
      "metadata": {
        "id": "4hyVLolwprXt"
      }
    }
  ]
}