{
  "nbformat": 4,
  "nbformat_minor": 0,
  "metadata": {
    "colab": {
      "name": "First-mnist.ipynb",
      "provenance": [],
      "mount_file_id": "1sJT_Wvri-LwOiELhnPHo4vyzCoWcw0uv",
      "authorship_tag": "ABX9TyP8KiSr8FDlVy+n+FRWxZeT",
      "include_colab_link": true
    },
    "kernelspec": {
      "name": "python3",
      "display_name": "Python 3"
    },
    "language_info": {
      "name": "python"
    }
  },
  "cells": [
    {
      "cell_type": "markdown",
      "metadata": {
        "id": "view-in-github",
        "colab_type": "text"
      },
      "source": [
        "<a href=\"https://colab.research.google.com/github/jigglyjonny/Tensorflow-Projects/blob/main/First_mnist.ipynb\" target=\"_parent\"><img src=\"https://colab.research.google.com/assets/colab-badge.svg\" alt=\"Open In Colab\"/></a>"
      ]
    },
    {
      "cell_type": "code",
      "execution_count": 2,
      "metadata": {
        "id": "FAJrFYltjn95"
      },
      "outputs": [],
      "source": [
        "# libraries\n",
        "# !pip install os\n",
        "import numpy as np\n",
        "import pandas as pd\n",
        "import matplotlib.pyplot as plt\n",
        "import os"
      ]
    },
    {
      "cell_type": "code",
      "source": [
        "import tensorflow as tf\n",
        "mnist = tf.keras.datasets.mnist\n"
      ],
      "metadata": {
        "id": "lEim2_8SmKuh"
      },
      "execution_count": 4,
      "outputs": []
    },
    {
      "cell_type": "code",
      "source": [
        "(training_images, training_labels), (test_images, test_labels) = mnist.load_data()\n"
      ],
      "metadata": {
        "id": "Q18ppMKPn3Yr"
      },
      "execution_count": null,
      "outputs": []
    },
    {
      "cell_type": "code",
      "source": [
        "trainingLabelsohe = tf.keras.utils.to_categorical(training_labels)\n",
        "testLabelsohe = tf.keras.utils.to_categorical(test_labels)\n"
      ],
      "metadata": {
        "id": "94k4Mi94rEWh"
      },
      "execution_count": 7,
      "outputs": []
    },
    {
      "cell_type": "code",
      "source": [
        "model = tf.keras.models.Sequential([\n",
        "tf.keras.layers.Flatten(), \n",
        "tf.keras.layers.Dense(10),\n",
        "tf.keras.layers.Dense(100),\n",
        "tf.keras.layers.Dense(10),\n",
        "tf.keras.layers.Dense(10),\n",
        "tf.keras.layers.Dense(10, activation = \"softmax\")\n",
        "])\n"
      ],
      "metadata": {
        "id": "jfnredPhs0P0"
      },
      "execution_count": 8,
      "outputs": []
    },
    {
      "cell_type": "code",
      "source": [
        "model.compile(\n",
        "    optimizer = \"adam\",\n",
        "    loss = \"categorical_crossentropy\",\n",
        "    metrics = [\"accuracy\"]\n",
        ")"
      ],
      "metadata": {
        "id": "IjYeMVWOwGip"
      },
      "execution_count": 9,
      "outputs": []
    },
    {
      "cell_type": "code",
      "source": [
        "model.fit(\n",
        "    training_images, trainingLabelsohe, \n",
        "    validation_data = (test_images, testLabelsohe),\n",
        "    # batch_size = 15,\n",
        "    epochs = 100\n",
        ")"
      ],
      "metadata": {
        "id": "ebSv852Xy0zz"
      },
      "execution_count": null,
      "outputs": []
    }
  ]
}